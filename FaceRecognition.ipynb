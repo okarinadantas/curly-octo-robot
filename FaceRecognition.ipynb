{
  "nbformat": 4,
  "nbformat_minor": 0,
  "metadata": {
    "colab": {
      "name": "FaceRecognition.ipynb",
      "provenance": [],
      "collapsed_sections": [],
      "authorship_tag": "ABX9TyNwxaKfO0iNj15EodymIWBN",
      "include_colab_link": true
    },
    "kernelspec": {
      "name": "python3",
      "display_name": "Python 3"
    },
    "language_info": {
      "name": "python"
    }
  },
  "cells": [
    {
      "cell_type": "markdown",
      "metadata": {
        "id": "view-in-github",
        "colab_type": "text"
      },
      "source": [
        "<a href=\"https://colab.research.google.com/github/okarinadantas/curly-octo-robot/blob/main/FaceRecognition.ipynb\" target=\"_parent\"><img src=\"https://colab.research.google.com/assets/colab-badge.svg\" alt=\"Open In Colab\"/></a>"
      ]
    },
    {
      "cell_type": "code",
      "execution_count": null,
      "metadata": {
        "id": "m-3lokcA30DT"
      },
      "outputs": [],
      "source": [
        "#!pip install --upgrade pip\n",
        "#!pip install opencv-python\n",
        "#!pip install mediapipe"
      ]
    },
    {
      "cell_type": "code",
      "source": [
        "import cv2\n",
        "import mediapipe as mp\n"
      ],
      "metadata": {
        "id": "LecjKwSo35F1"
      },
      "execution_count": null,
      "outputs": []
    },
    {
      "cell_type": "code",
      "source": [
        "#inicialyze webcam\n",
        "webCam = cv2.VideoCapture(0) \n",
        "\n",
        "#inicialyze mp\n",
        "detectionSolution = mp.solutions.face_detection\n",
        "faceDetection = detectionSolution.FaceDetection()\n",
        "draw = mp.solutions.drawing_utils\n",
        "\n",
        "#lopping facial detection\n",
        "while True:\n",
        "    #read webCam info\n",
        "    verify, frame = webCam.read()\n",
        "    if not verify:\n",
        "        break\n",
        "        \n",
        "    #find face\n",
        "    listFace = faceDetection.process(frame)\n",
        "    if listFace.detections:\n",
        "        for faces in listFace.detections:\n",
        "            draw.draw_detection(frame, faces)\n",
        "     \n",
        "    cv2.imshow(\"FaceRecognition\", frame)\n",
        "    \n",
        "    #esc exit\n",
        "    \n",
        "    if cv2.waitKey(5) == 27:\n",
        "        break\n",
        "    \n",
        "webCam.release()\n",
        "cv2.destroyAllWindows()"
      ],
      "metadata": {
        "id": "_dHQQiLl47EB"
      },
      "execution_count": null,
      "outputs": []
    }
  ]
}